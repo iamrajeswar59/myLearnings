{
  "nbformat": 4,
  "nbformat_minor": 0,
  "metadata": {
    "colab": {
      "name": "Untitled10.ipynb",
      "provenance": [],
      "authorship_tag": "ABX9TyNtuR7oefTBcbQmkp18vaqm",
      "include_colab_link": true
    },
    "kernelspec": {
      "name": "python3",
      "display_name": "Python 3"
    }
  },
  "cells": [
    {
      "cell_type": "markdown",
      "metadata": {
        "id": "view-in-github",
        "colab_type": "text"
      },
      "source": [
        "<a href=\"https://colab.research.google.com/github/iamrajeswar59/myLearnings/blob/master/aiml/padhai_deep_learning/introduction/introduction_to_python/code/introduction_to_google_colab.ipynb\" target=\"_parent\"><img src=\"https://colab.research.google.com/assets/colab-badge.svg\" alt=\"Open In Colab\"/></a>"
      ]
    },
    {
      "cell_type": "markdown",
      "metadata": {
        "id": "pg29iFEoeGRF",
        "colab_type": "text"
      },
      "source": [
        "# Entering linux server commands"
      ]
    },
    {
      "cell_type": "markdown",
      "metadata": {
        "id": "NKBjNHncgpng",
        "colab_type": "text"
      },
      "source": [
        "Just add a \"!\" exclamation mark to run a linux command on server"
      ]
    },
    {
      "cell_type": "code",
      "metadata": {
        "id": "nslhRHe8eX-_",
        "colab_type": "code",
        "colab": {}
      },
      "source": [
        "!ls"
      ],
      "execution_count": 0,
      "outputs": []
    },
    {
      "cell_type": "code",
      "metadata": {
        "id": "HufJM2GredpP",
        "colab_type": "code",
        "colab": {}
      },
      "source": [
        "!cat /proc/cpuinfo"
      ],
      "execution_count": 0,
      "outputs": []
    },
    {
      "cell_type": "code",
      "metadata": {
        "id": "oOR_0HScfrpI",
        "colab_type": "code",
        "colab": {}
      },
      "source": [
        "!cat /proc/meminfo"
      ],
      "execution_count": 0,
      "outputs": []
    },
    {
      "cell_type": "markdown",
      "metadata": {
        "id": "Fxo_5wU4gzUO",
        "colab_type": "text"
      },
      "source": [
        "This is a text cell, where i can write in **bold** . \n",
        "I can also write in $\\LaTeX$\n"
      ]
    },
    {
      "cell_type": "markdown",
      "metadata": {
        "id": "WwxTFSxyhV-K",
        "colab_type": "text"
      },
      "source": [
        "# Section 2 : Simple commands"
      ]
    }
  ]
}